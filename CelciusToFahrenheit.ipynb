{
  "nbformat": 4,
  "nbformat_minor": 0,
  "metadata": {
    "colab": {
      "provenance": [],
      "authorship_tag": "ABX9TyMtfNBwatlDUV3rX2Nioovc",
      "include_colab_link": true
    },
    "kernelspec": {
      "name": "python3",
      "display_name": "Python 3"
    },
    "language_info": {
      "name": "python"
    }
  },
  "cells": [
    {
      "cell_type": "markdown",
      "metadata": {
        "id": "view-in-github",
        "colab_type": "text"
      },
      "source": [
        "<a href=\"https://colab.research.google.com/github/Ampuia/Learning-Machine-Learning/blob/main/CelciusToFahrenheit.ipynb\" target=\"_parent\"><img src=\"https://colab.research.google.com/assets/colab-badge.svg\" alt=\"Open In Colab\"/></a>"
      ]
    },
    {
      "cell_type": "code",
      "execution_count": null,
      "metadata": {
        "id": "9bS8hyjYS2Xt"
      },
      "outputs": [],
      "source": [
        "import tensorflow as tf\n",
        "\n",
        "import numpy as np\n"
      ]
    },
    {
      "cell_type": "code",
      "source": [
        "import logging\n",
        "logging.getLogger(\"tensorflow\").setLevel(logging.ERROR)"
      ],
      "metadata": {
        "id": "xaQVs-OVTYBV"
      },
      "execution_count": null,
      "outputs": []
    },
    {
      "cell_type": "code",
      "source": [
        "celcius_q = np.array([-40, -10, 0, 8, 15, 22, 38], dtype = float)\n",
        "fahrenheit_a = np.array([-40, 14, 32, 46, 59, 72, 100], dtype = float)\n",
        "\n",
        "for i,c in enumerate(celcius_q):\n",
        "  print(\"{} degree celcious equal to {} degree fahrenheit\".format(c, fahrenheit_a[i]))\n",
        "\n"
      ],
      "metadata": {
        "colab": {
          "base_uri": "https://localhost:8080/"
        },
        "id": "SbZM56URTwRr",
        "outputId": "43389b2d-bac5-4000-cb3f-6738e229e8cb"
      },
      "execution_count": null,
      "outputs": [
        {
          "output_type": "stream",
          "name": "stdout",
          "text": [
            "-40.0 degree celcious equal to -40.0 degree fahrenheit\n",
            "-10.0 degree celcious equal to 14.0 degree fahrenheit\n",
            "0.0 degree celcious equal to 32.0 degree fahrenheit\n",
            "8.0 degree celcious equal to 46.0 degree fahrenheit\n",
            "15.0 degree celcious equal to 59.0 degree fahrenheit\n",
            "22.0 degree celcious equal to 72.0 degree fahrenheit\n",
            "38.0 degree celcious equal to 100.0 degree fahrenheit\n"
          ]
        }
      ]
    },
    {
      "cell_type": "code",
      "source": [
        "ten = tf.keras.layers.Dense(units=1, input_shape=[1])\n",
        "eleven = tf.keras.layers.Dense(units=5, input_shape=[2])\n",
        "twelve = tf.keras.layers.Dense(units=7, input_shape=[3])\n",
        "\n",
        "model = tf.keras.Sequential([ten, eleven, twelve])\n"
      ],
      "metadata": {
        "id": "vCj4gFZ8WNbu"
      },
      "execution_count": null,
      "outputs": []
    },
    {
      "cell_type": "code",
      "source": [
        "model.compile(loss='mean_squared_error',\n",
        "              optimizer=tf.keras.optimizers.Adam(0.1))"
      ],
      "metadata": {
        "id": "C-OM6cvjZcWE"
      },
      "execution_count": null,
      "outputs": []
    },
    {
      "cell_type": "code",
      "source": [
        "history = model.fit(celcius_q, fahrenheit_a, epochs=1000, verbose=False)\n",
        "print(\"Finished training the model\")"
      ],
      "metadata": {
        "colab": {
          "base_uri": "https://localhost:8080/"
        },
        "id": "ao5x7LfVYT-6",
        "outputId": "53caa18b-5210-4998-98e9-9f538f97045e"
      },
      "execution_count": null,
      "outputs": [
        {
          "output_type": "stream",
          "name": "stdout",
          "text": [
            "Finished training the model\n"
          ]
        }
      ]
    },
    {
      "cell_type": "code",
      "source": [
        "history.params"
      ],
      "metadata": {
        "colab": {
          "base_uri": "https://localhost:8080/"
        },
        "id": "5_quBVlNaj6O",
        "outputId": "3af6f6d8-70c3-4564-d878-92e84d381a5f"
      },
      "execution_count": null,
      "outputs": [
        {
          "output_type": "execute_result",
          "data": {
            "text/plain": [
              "{'verbose': False, 'epochs': 1000, 'steps': 1}"
            ]
          },
          "metadata": {},
          "execution_count": 71
        }
      ]
    },
    {
      "cell_type": "code",
      "source": [
        "import matplotlib.pyplot as plt\n",
        "plt.xlabel('Epoch Number')\n",
        "plt.ylabel('Loss Magnitude')\n",
        "plt.plot(history.history['loss'])"
      ],
      "metadata": {
        "colab": {
          "base_uri": "https://localhost:8080/",
          "height": 296
        },
        "id": "YCl0TzPKa6sN",
        "outputId": "f621b55c-0b95-4e77-82ff-63b90eeae864"
      },
      "execution_count": null,
      "outputs": [
        {
          "output_type": "execute_result",
          "data": {
            "text/plain": [
              "[<matplotlib.lines.Line2D at 0x7fe3bb0eedc0>]"
            ]
          },
          "metadata": {},
          "execution_count": 72
        },
        {
          "output_type": "display_data",
          "data": {
            "text/plain": [
              "<Figure size 432x288 with 1 Axes>"
            ],
            "image/png": "[encoded data removed]"
          },
          "metadata": {
            "needs_background": "light"
          }
        }
      ]
    },
    {
      "cell_type": "code",
      "source": [
        "print(model.predict([555]))"
      ],
      "metadata": {
        "colab": {
          "base_uri": "https://localhost:8080/"
        },
        "id": "VW12wScWbY1w",
        "outputId": "8b5266e1-5b5d-4e3b-933c-f65ffa4ea484"
      },
      "execution_count": null,
      "outputs": [
        {
          "output_type": "stream",
          "name": "stdout",
          "text": [
            "1/1 [==============================] - 0s 67ms/step\n",
            "[[1029.8142 1029.8145 1029.8143 1029.8145 1029.8143 1029.8143 1029.8142]]\n"
          ]
        }
      ]
    },
    {
      "cell_type": "code",
      "source": [
        "print(\"internal variables: {}\".format(ten.get_weights()))\n",
        "print(\"internal variables: {}\".format(eleven.get_weights()))\n",
        "print(\"internal variables: {}\".format(twelve.get_weights()))"
      ],
      "metadata": {
        "colab": {
          "base_uri": "https://localhost:8080/"
        },
        "id": "Uhb5EnvzcN81",
        "outputId": "5e96f409-59d8-4a85-ddcf-8730c4340a40"
      },
      "execution_count": null,
      "outputs": [
        {
          "output_type": "stream",
          "name": "stdout",
          "text": [
            "internal variables: [array([[0.39147127]], dtype=float32), array([3.1064057], dtype=float32)]\n",
            "internal variables: [array([[-0.9424363 , -1.121331  ,  0.69210273,  1.059612  ,  1.1108919 ]],\n",
            "      dtype=float32), array([-3.0278413, -3.2585683,  3.0996058,  3.2047758,  3.2405312],\n",
            "      dtype=float32)]\n",
            "internal variables: [array([[-0.04474653, -1.6729276 , -0.6498579 , -0.17013209, -0.72922283,\n",
            "        -1.1271232 , -1.102135  ],\n",
            "       [-1.1962142 , -0.85355264, -1.1432741 , -1.2960678 , -0.852286  ,\n",
            "        -0.5142713 , -0.92184395],\n",
            "       [ 1.0726621 ,  0.8409168 ,  0.567111  ,  0.9508234 ,  0.9833466 ,\n",
            "         1.0389998 ,  1.1721852 ],\n",
            "       [ 1.0443506 ,  0.7239342 ,  0.991746  ,  1.1753039 ,  1.188702  ,\n",
            "         0.967281  ,  0.8769735 ],\n",
            "       [ 1.2244918 ,  0.63909656,  1.1297197 ,  0.96832716,  0.9089268 ,\n",
            "         1.0890821 ,  0.70204073]], dtype=float32), array([3.0122547, 2.8411362, 3.3952856, 3.0953093, 2.897305 , 2.7472792,\n",
            "       2.6256492], dtype=float32)]\n"
          ]
        }
      ]
    }
  ]
}