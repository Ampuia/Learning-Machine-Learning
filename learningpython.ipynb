{
  "nbformat": 4,
  "nbformat_minor": 0,
  "metadata": {
    "colab": {
      "provenance": [],
      "authorship_tag": "ABX9TyM4vncFwqLMPiLJUXAU7EAk",
      "include_colab_link": true
    },
    "kernelspec": {
      "name": "python3",
      "display_name": "Python 3"
    },
    "language_info": {
      "name": "python"
    },
    "accelerator": "GPU",
    "gpuClass": "standard"
  },
  "cells": [
    {
      "cell_type": "markdown",
      "metadata": {
        "id": "view-in-github",
        "colab_type": "text"
      },
      "source": [
        "<a href=\"https://colab.research.google.com/github/Ampuia/Learning-Machine-Learning/blob/main/learningpython.ipynb\" target=\"_parent\"><img src=\"https://colab.research.google.com/assets/colab-badge.svg\" alt=\"Open In Colab\"/></a>"
      ]
    },
    {
      "cell_type": "code",
      "execution_count": null,
      "metadata": {
        "colab": {
          "base_uri": "https://localhost:8080/"
        },
        "id": "9lhIVWA6CWe0",
        "outputId": "3615fe95-caff-42f8-94de-3e3d727f936d"
      },
      "outputs": [
        {
          "output_type": "stream",
          "name": "stdout",
          "text": [
            "Hello World\n"
          ]
        }
      ],
      "source": [
        "print (\"Hello World\")"
      ]
    },
    {
      "cell_type": "code",
      "source": [
        "def HelloWorldXY(x,y):\n",
        "  if (x < 20):\n",
        "    print (\"x < 20\")\n",
        "  elif (x < 50):\n",
        "    print (\"x < 20 but x > 20\")\n",
        "  else:\n",
        "    print (\"x > 50\")\n",
        "  return x + y\n",
        "\n",
        "for i in range(10,100,7):\n",
        "    print (\"int is : {}\".format(i))\n",
        "    r = HelloWorldXY(i,i)\n",
        "    print (\"result from function: {}\".format(i, r))\n",
        "  \n"
      ],
      "metadata": {
        "id": "sKvpWcWXCyAV"
      },
      "execution_count": null,
      "outputs": []
    },
    {
      "cell_type": "code",
      "source": [
        "print (HelloWorldXY(45,34))"
      ],
      "metadata": {
        "id": "3m51Td3JH0IF"
      },
      "execution_count": null,
      "outputs": []
    },
    {
      "cell_type": "code",
      "source": [
        "\n",
        "print(\"\")\n",
        "for i in range(2):\n",
        "  print(i)\n",
        "  \n",
        "print(\"\")\n",
        "for i in [1,2]:\n",
        "  print(i) \n",
        "  \n",
        "print(\"\")\n",
        "i = 0\n",
        "while i < 5:\n",
        "  print (i)\n",
        "  i += 1\n"
      ],
      "metadata": {
        "id": "JYtk1T5lIjdF"
      },
      "execution_count": null,
      "outputs": []
    },
    {
      "cell_type": "code",
      "source": [
        "while True:\n",
        "  print(\"infiniteLoop\")\n",
        "  break"
      ],
      "metadata": {
        "colab": {
          "base_uri": "https://localhost:8080/"
        },
        "id": "9Ti4HS08JZib",
        "outputId": "a6f11222-8d01-4540-c4bb-d707b55beb7f"
      },
      "execution_count": null,
      "outputs": [
        {
          "output_type": "stream",
          "name": "stdout",
          "text": [
            "infiniteLoop\n"
          ]
        }
      ]
    },
    {
      "cell_type": "code",
      "source": [
        "import numpy as np\n",
        "\n",
        "a = np.array([\"Hello\", \"World\", \"Carnivore\"])\n",
        "a = np.append(a, \"Carliflower\")\n",
        "\n",
        "print (a)\n",
        "\n",
        "print (\"\")\n",
        "for i in a:\n",
        "  print(i)\n",
        "\n",
        "print (\"\")\n",
        "for i,m in enumerate(a):\n",
        "  print(\"for array Index: {}, value is: {}\".format(i,m))\n"
      ],
      "metadata": {
        "id": "7kg38byxJqYJ"
      },
      "execution_count": null,
      "outputs": []
    },
    {
      "cell_type": "code",
      "source": [
        "t = np.array([0,2,4,5,6,7])\n",
        "\n",
        "print(\"Highest : {}\".format(np.max(t)))\n",
        "print(\"Sum : {}\".format(np.sum(t)))\n",
        "print(\"Average : {}\".format(np.average(t)))\n",
        "print(\"Array Index Size : {}\".format(np.argmax(t)))"
      ],
      "metadata": {
        "id": "CG6xf6lWL9Oo"
      },
      "execution_count": null,
      "outputs": []
    },
    {
      "cell_type": "code",
      "source": [
        "u = np.random.rand(1,5)\n",
        "print (u)"
      ],
      "metadata": {
        "id": "NMVSt8chMxMi"
      },
      "execution_count": null,
      "outputs": []
    },
    {
      "cell_type": "code",
      "source": [
        "print (\"a = {}\".format(a.shape))\n",
        "print (\"t = {}\".format(t.shape))\n",
        "print (\"u = {}\".format(u.shape))"
      ],
      "metadata": {
        "id": "l5HvbneDNbzG"
      },
      "execution_count": null,
      "outputs": []
    },
    {
      "cell_type": "code",
      "source": [
        "!pwd\n",
        "!cd /\n",
        "!ls -1"
      ],
      "metadata": {
        "colab": {
          "base_uri": "https://localhost:8080/"
        },
        "id": "TTyp3tOYOSUg",
        "outputId": "037bf521-4326-4e62-95f9-6cae091416e1"
      },
      "execution_count": null,
      "outputs": [
        {
          "output_type": "stream",
          "name": "stdout",
          "text": [
            "/content\n",
            "sample_data\n"
          ]
        }
      ]
    }
  ]
}